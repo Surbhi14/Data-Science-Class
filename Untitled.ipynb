{
 "cells": [
  {
   "cell_type": "code",
   "execution_count": 1,
   "metadata": {},
   "outputs": [
    {
     "name": "stdout",
     "output_type": "stream",
     "text": [
      "12,35,88,120,155,"
     ]
    }
   ],
   "source": [
    "a=[12,24,35,24,88,120,155]\n",
    "c=0\n",
    "for i in a:\n",
    "    if i==24: c+=1\n",
    "for i in range(0,c):\n",
    "    a.remove(24)\n",
    "a=[print(i,end=\",\") for i in a]"
   ]
  },
  {
   "cell_type": "code",
   "execution_count": 2,
   "metadata": {},
   "outputs": [
    {
     "name": "stdout",
     "output_type": "stream",
     "text": [
      "{35}\n"
     ]
    }
   ],
   "source": [
    "a=[1,3,6,78,35,55]\n",
    "b=[12,24,35,24,88,120,155]\n",
    "c=[]\n",
    "for i in a:\n",
    "    for j in b:\n",
    "        if i==j:\n",
    "            c.append(i)\n",
    "print(set(c))"
   ]
  },
  {
   "cell_type": "code",
   "execution_count": 3,
   "metadata": {},
   "outputs": [
    {
     "name": "stdout",
     "output_type": "stream",
     "text": [
      "[12, 24, 35, 88, 120, 155]\n"
     ]
    }
   ],
   "source": [
    "a=[12,24,35,24,88,120,155,88,120,155]\n",
    "print(sorted(set(a),key=a.index))\n"
   ]
  },
  {
   "cell_type": "code",
   "execution_count": 4,
   "metadata": {},
   "outputs": [
    {
     "name": "stdout",
     "output_type": "stream",
     "text": [
      "Male\n",
      "None\n",
      "Female\n",
      "None\n"
     ]
    }
   ],
   "source": [
    "class Person():\n",
    "    def getgender(self):\n",
    "        pass\n",
    "class Male(Person):\n",
    "    def getgender(self):\n",
    "        print(\"Male\")\n",
    "class Female(Person):\n",
    "    def getgender(self):\n",
    "        print(\"Female\")\n",
    "m=Male()\n",
    "print(m.getgender())\n",
    "f=Female()\n",
    "print(f.getgender())"
   ]
  },
  {
   "cell_type": "code",
   "execution_count": 5,
   "metadata": {},
   "outputs": [
    {
     "name": "stdout",
     "output_type": "stream",
     "text": [
      "Give inputabcdefgabc\n",
      "a , 2\n",
      "b , 2\n",
      "c , 2\n",
      "d , 1\n",
      "e , 1\n",
      "f , 1\n",
      "g , 1\n"
     ]
    }
   ],
   "source": [
    "a=input(\"Give input\")\n",
    "a=[i for i in a]\n",
    "b=dict.fromkeys(a)\n",
    "for i in a:\n",
    "    c=a.count(i)\n",
    "    b[i]=c\n",
    "for i in b:\n",
    "    print(i,\",\",dict.get(b,i))"
   ]
  },
  {
   "cell_type": "code",
   "execution_count": 6,
   "metadata": {},
   "outputs": [
    {
     "name": "stdout",
     "output_type": "stream",
     "text": [
      "Give inputrise to vote sir\n",
      "ris etov ot esir\n"
     ]
    }
   ],
   "source": [
    "a=input(\"Give input\")\n",
    "a=[i for i in a]\n",
    "s=\"\"\n",
    "for i in a[::-1]:\n",
    "    s+=i\n",
    "print(s)"
   ]
  },
  {
   "cell_type": "code",
   "execution_count": 7,
   "metadata": {},
   "outputs": [
    {
     "name": "stdout",
     "output_type": "stream",
     "text": [
      "Give inputH1e2l3l4o5w6o7r8l9d\n",
      "Helloworld\n"
     ]
    }
   ],
   "source": [
    "a=input(\"Give input\")\n",
    "a=[i for i in a]\n",
    "s=\"\"\n",
    "for i in a[::2]:\n",
    "    s+=i\n",
    "print(s)"
   ]
  },
  {
   "cell_type": "code",
   "execution_count": 8,
   "metadata": {},
   "outputs": [
    {
     "name": "stdout",
     "output_type": "stream",
     "text": [
      "[(1, 2, 3), (1, 3, 2), (2, 1, 3), (2, 3, 1), (3, 1, 2), (3, 2, 1)]\n"
     ]
    }
   ],
   "source": [
    "import itertools\n",
    "a=[1,2,3]\n",
    "print(list(itertools.permutations(a)))"
   ]
  }
 ],
 "metadata": {
  "kernelspec": {
   "display_name": "Python 3",
   "language": "python",
   "name": "python3"
  },
  "language_info": {
   "codemirror_mode": {
    "name": "ipython",
    "version": 3
   },
   "file_extension": ".py",
   "mimetype": "text/x-python",
   "name": "python",
   "nbconvert_exporter": "python",
   "pygments_lexer": "ipython3",
   "version": "3.7.0"
  }
 },
 "nbformat": 4,
 "nbformat_minor": 2
}
