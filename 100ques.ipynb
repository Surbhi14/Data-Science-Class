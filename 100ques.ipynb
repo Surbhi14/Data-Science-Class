{
 "cells": [
  {
   "cell_type": "code",
   "execution_count": 1,
   "metadata": {},
   "outputs": [
    {
     "name": "stdout",
     "output_type": "stream",
     "text": [
      "2002,2009,2016,2023,2037,2044,2051,2058,2072,2079,2086,2093,2107,2114,2121,2128,2142,2149,2156,2163,2177,2184,2191,2198,2212,2219,2226,2233,2247,2254,2261,2268,2282,2289,2296,2303,2317,2324,2331,2338,2352,2359,2366,2373,2387,2394,2401,2408,2422,2429,2436,2443,2457,2464,2471,2478,2492,2499,2506,2513,2527,2534,2541,2548,2562,2569,2576,2583,2597,2604,2611,2618,2632,2639,2646,2653,2667,2674,2681,2688,2702,2709,2716,2723,2737,2744,2751,2758,2772,2779,2786,2793,2807,2814,2821,2828,2842,2849,2856,2863,2877,2884,2891,2898,2912,2919,2926,2933,2947,2954,2961,2968,2982,2989,2996,3003,3017,3024,3031,3038,3052,3059,3066,3073,3087,3094,3101,3108,3122,3129,3136,3143,3157,3164,3171,3178,3192,3199,"
     ]
    }
   ],
   "source": [
    "a=2000\n",
    "b=3201\n",
    "for i in range(a,b):\n",
    "    if i%7==0 and i%5!=0:\n",
    "        print(i,end=\",\")"
   ]
  },
  {
   "cell_type": "code",
   "execution_count": 2,
   "metadata": {},
   "outputs": [
    {
     "name": "stdout",
     "output_type": "stream",
     "text": [
      "enter nos\n",
      "8\n",
      "40320,"
     ]
    }
   ],
   "source": [
    "print(\"enter nos\")\n",
    "a=input()\n",
    "l=[int(i) for i in a.split()]\n",
    "for i in range(0,len(l)):\n",
    "    f=1\n",
    "    for j in range(1,l[i]+1):\n",
    "       f=f*j\n",
    "    print(f,end=\",\")"
   ]
  },
  {
   "cell_type": "code",
   "execution_count": 3,
   "metadata": {},
   "outputs": [
    {
     "name": "stdout",
     "output_type": "stream",
     "text": [
      "Enter a no8\n",
      "{1: 1, 2: 4, 3: 9, 4: 16, 5: 25, 6: 36, 7: 49, 8: 64}\n"
     ]
    }
   ],
   "source": [
    "a=int(input(\"Enter a no\"))\n",
    "d={}\n",
    "for i in range(1,a+1):\n",
    "    d.update({i:i*i})\n",
    "print(d)"
   ]
  },
  {
   "cell_type": "code",
   "execution_count": 4,
   "metadata": {},
   "outputs": [
    {
     "name": "stdout",
     "output_type": "stream",
     "text": [
      "Give comma seperated input34,67,55,33,12,98\n",
      "('34', '67', '55', '33', '12', '98')\n",
      "['34', '67', '55', '33', '12', '98']\n"
     ]
    }
   ],
   "source": [
    "a=input(\"Give comma seperated input\")\n",
    "t=tuple(a.split(\",\"))\n",
    "l=list(a.split(\",\"))\n",
    "print(t)\n",
    "print(l)"
   ]
  },
  {
   "cell_type": "code",
   "execution_count": 5,
   "metadata": {},
   "outputs": [
    {
     "name": "stdout",
     "output_type": "stream",
     "text": [
      "Give 2 values5 14\n",
      "Give a stringsahvgbh\n",
      "SAHVGBH\n",
      "19\n"
     ]
    }
   ],
   "source": [
    "class five:\n",
    "    def getString(self):\n",
    "        self.s=input(\"Give a string\")\n",
    "    def printString(self):\n",
    "        print(self.s.upper())\n",
    "    def __init__(self,a,b):\n",
    "        self.a,self.b = int(a),int(b)\n",
    "\n",
    "    def sum(self):\n",
    "        return self.a+self.b\n",
    "def  test():\n",
    "    d = five(a,b)\n",
    "    d.getString()\n",
    "    d.printString()\n",
    "    print(d.sum())\n",
    "a,b = [i for i in input(\"Give 2 values\").split()]\n",
    "print1 = test()\n"
   ]
  },
  {
   "cell_type": "code",
   "execution_count": 6,
   "metadata": {},
   "outputs": [
    {
     "name": "stdout",
     "output_type": "stream",
     "text": [
      "Give input100,150,180\n",
      "[18, 22, 24]\n"
     ]
    }
   ],
   "source": [
    "import math\n",
    "c=50\n",
    "h=30\n",
    "d=[]\n",
    "d.extend([int(i) for i in input(\"Give input\").split(\",\")])\n",
    "sol=[]\n",
    "for i in range(0,len(d)):\n",
    "    a=int(math.sqrt((c*2*d[i])/h))\n",
    "    sol.append(a)\n",
    "print(sol)"
   ]
  },
  {
   "cell_type": "code",
   "execution_count": 7,
   "metadata": {},
   "outputs": [
    {
     "name": "stdout",
     "output_type": "stream",
     "text": [
      "Give no X3\n",
      "Give no Y5\n",
      "[[0, 0, 0, 0, 0], [0, 1, 2, 3, 4], [0, 2, 4, 6, 8]]\n"
     ]
    }
   ],
   "source": [
    "x= int(input(\"Give no X\"))\n",
    "y= int(input(\"Give no Y\"))\n",
    "z=[]\n",
    "for i in range(0,x):\n",
    "    z.append([])\n",
    "    for j in range(0,y):\n",
    "        z[i].append(i*j)\n",
    "print(z)"
   ]
  },
  {
   "cell_type": "code",
   "execution_count": 8,
   "metadata": {},
   "outputs": [
    {
     "name": "stdout",
     "output_type": "stream",
     "text": [
      "Enter comma seperated stringwithout,hello,bag,world\n",
      "['bag', 'hello', 'without', 'world']\n"
     ]
    }
   ],
   "source": [
    "a=input(\"Enter comma seperated string\")\n",
    "a=a.split(\",\")\n",
    "a=sorted(a)\n",
    "print(a)"
   ]
  },
  {
   "cell_type": "code",
   "execution_count": 9,
   "metadata": {},
   "outputs": [
    {
     "name": "stdout",
     "output_type": "stream",
     "text": [
      "Give inputHello World\n",
      "HELLO WORLD\n"
     ]
    }
   ],
   "source": [
    "print(input(\"Give input\").upper())"
   ]
  },
  {
   "cell_type": "code",
   "execution_count": 10,
   "metadata": {},
   "outputs": [
    {
     "name": "stdout",
     "output_type": "stream",
     "text": [
      "Enter the stringhello world and practice makes perfect and hello world again\n",
      "again and hello makes perfect practice world \n"
     ]
    }
   ],
   "source": [
    "a=input(\"Enter the string\")\n",
    "a=sorted(set(a.split()))\n",
    "se=\"\"\n",
    "for i in a:\n",
    "        se += i+\" \"\n",
    "print(se)\n"
   ]
  },
  {
   "cell_type": "code",
   "execution_count": 11,
   "metadata": {},
   "outputs": [
    {
     "name": "stdout",
     "output_type": "stream",
     "text": [
      "Give comma seperated nos.0100,0011,1010,1001\n",
      "1010\n"
     ]
    }
   ],
   "source": [
    "a=input(\"Give comma seperated nos.\")\n",
    "a=a.split(\",\")\n",
    "for i in a:\n",
    "    if int(i,2)%5==0:\n",
    "        print(i)"
   ]
  },
  {
   "cell_type": "code",
   "execution_count": 12,
   "metadata": {},
   "outputs": [
    {
     "name": "stdout",
     "output_type": "stream",
     "text": [
      "2000,2002,2004,2006,2008,2020,2022,2024,2026,2028,2040,2042,2044,2046,2048,2060,2062,2064,2066,2068,2080,2082,2084,2086,2088,2200,2202,2204,2206,2208,2220,2222,2224,2226,2228,2240,2242,2244,2246,2248,2260,2262,2264,2266,2268,2280,2282,2284,2286,2288,2400,2402,2404,2406,2408,2420,2422,2424,2426,2428,2440,2442,2444,2446,2448,2460,2462,2464,2466,2468,2480,2482,2484,2486,2488,2600,2602,2604,2606,2608,2620,2622,2624,2626,2628,2640,2642,2644,2646,2648,2660,2662,2664,2666,2668,2680,2682,2684,2686,2688,2800,2802,2804,2806,2808,2820,2822,2824,2826,2828,2840,2842,2844,2846,2848,2860,2862,2864,2866,2868,2880,2882,2884,2886,2888,"
     ]
    }
   ],
   "source": [
    "a=1000\n",
    "b=3001\n",
    "c=[str(i) for i in range(a,b)]\n",
    "for i in c:\n",
    "    d=0\n",
    "    for j in i:\n",
    "        if int(j)%2==1:\n",
    "            d=1\n",
    "            break\n",
    "    if d==0:\n",
    "        print(i,end=\",\")\n"
   ]
  },
  {
   "cell_type": "code",
   "execution_count": 13,
   "metadata": {},
   "outputs": [
    {
     "name": "stdout",
     "output_type": "stream",
     "text": [
      "Give any inputhello world! 123\n",
      "Digits:  3  and Letters:  10\n"
     ]
    }
   ],
   "source": [
    "a=input(\"Give any input\")\n",
    "d=0\n",
    "l=0\n",
    "for i in a:\n",
    "    if i.isdigit()==1: d+=1\n",
    "    elif i.isalpha()==1: l+=1\n",
    "print(\"Digits: \",d,\" and Letters: \",l)"
   ]
  },
  {
   "cell_type": "code",
   "execution_count": 14,
   "metadata": {},
   "outputs": [
    {
     "name": "stdout",
     "output_type": "stream",
     "text": [
      "Give any inputHello world!\n",
      "Upper:  1  and Lower:  9\n"
     ]
    }
   ],
   "source": [
    "a=input(\"Give any input\")\n",
    "u=0\n",
    "l=0\n",
    "for i in a:\n",
    "    if i.isupper()==1: u+=1\n",
    "    elif i.islower()==1: l+=1\n",
    "print(\"Upper: \",u,\" and Lower: \",l)"
   ]
  },
  {
   "cell_type": "code",
   "execution_count": 15,
   "metadata": {},
   "outputs": [
    {
     "name": "stdout",
     "output_type": "stream",
     "text": [
      "enter any digit9\n",
      "11106\n"
     ]
    }
   ],
   "source": [
    "a=int(input(\"enter any digit\"))\n",
    "b=[str(a)*i for i in range(1,5)]\n",
    "sum=0\n",
    "for i in b:\n",
    "    sum+=int(i)\n",
    "print(sum)\n",
    "    "
   ]
  },
  {
   "cell_type": "code",
   "execution_count": 16,
   "metadata": {},
   "outputs": [
    {
     "name": "stdout",
     "output_type": "stream",
     "text": [
      "Enter the input1,2,3,4,5,6,7,8,9\n",
      "1,9,25,49,81,\n"
     ]
    }
   ],
   "source": [
    "a=input(\"Enter the input\")\n",
    "a=a.split(\",\")\n",
    "b=[int(i)*int(i) for i in a if int(i)%2==1]\n",
    "s=\"\"\n",
    "for i in b:\n",
    "    s+=str(i)+\",\"\n",
    "print(s)"
   ]
  }
 ],
 "metadata": {
  "kernelspec": {
   "display_name": "Python 3",
   "language": "python",
   "name": "python3"
  },
  "language_info": {
   "codemirror_mode": {
    "name": "ipython",
    "version": 3
   },
   "file_extension": ".py",
   "mimetype": "text/x-python",
   "name": "python",
   "nbconvert_exporter": "python",
   "pygments_lexer": "ipython3",
   "version": "3.7.0"
  }
 },
 "nbformat": 4,
 "nbformat_minor": 2
}
